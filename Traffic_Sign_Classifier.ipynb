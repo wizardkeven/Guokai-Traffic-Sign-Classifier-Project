{
 "cells": [
  {
   "cell_type": "markdown",
   "metadata": {},
   "source": [
    "# Self-Driving Car Engineer Nanodegree\n",
    "\n",
    "## Deep Learning\n",
    "\n",
    "## Project: Build a Traffic Sign Recognition Classifier\n",
    "\n",
    "In this notebook, a template is provided for you to implement your functionality in stages, which is required to successfully complete this project. If additional code is required that cannot be included in the notebook, be sure that the Python code is successfully imported and included in your submission if necessary. \n",
    "\n",
    "> **Note**: Once you have completed all of the code implementations, you need to finalize your work by exporting the iPython Notebook as an HTML document. Before exporting the notebook to html, all of the code cells need to have been run so that reviewers can see the final implementation and output. You can then export the notebook by using the menu above and navigating to  \\n\",\n",
    "    \"**File -> Download as -> HTML (.html)**. Include the finished document along with this notebook as your submission. \n",
    "\n",
    "In addition to implementing code, there is a writeup to complete. The writeup should be completed in a separate file, which can be either a markdown file or a pdf document. There is a [write up template](https://github.com/udacity/CarND-Traffic-Sign-Classifier-Project/blob/master/writeup_template.md) that can be used to guide the writing process. Completing the code template and writeup template will cover all of the [rubric points](https://review.udacity.com/#!/rubrics/481/view) for this project.\n",
    "\n",
    "The [rubric](https://review.udacity.com/#!/rubrics/481/view) contains \"Stand Out Suggestions\" for enhancing the project beyond the minimum requirements. The stand out suggestions are optional. If you decide to pursue the \"stand out suggestions\", you can include the code in this Ipython notebook and also discuss the results in the writeup file.\n",
    "\n",
    "\n",
    ">**Note:** Code and Markdown cells can be executed using the **Shift + Enter** keyboard shortcut. In addition, Markdown cells can be edited by typically double-clicking the cell to enter edit mode."
   ]
  },
  {
   "cell_type": "markdown",
   "metadata": {},
   "source": [
    "---\n",
    "## Step 0: Load The Data"
   ]
  },
  {
   "cell_type": "code",
   "execution_count": 3,
   "metadata": {
    "collapsed": true
   },
   "outputs": [],
   "source": [
    "# Load pickled data\n",
    "import pickle\n",
    "\n",
    "# TODO: Fill this in based on where you saved the training and testing data\n",
    "\n",
    "training_file = 'traffic_data/train.p'\n",
    "validation_file= 'traffic_data/valid.p'\n",
    "testing_file = 'traffic_data/test.p'\n",
    "\n",
    "with open(training_file, mode='rb') as f:\n",
    "    train = pickle.load(f)\n",
    "with open(validation_file, mode='rb') as f:\n",
    "    valid = pickle.load(f)\n",
    "with open(testing_file, mode='rb') as f:\n",
    "    test = pickle.load(f)\n",
    "    \n",
    "X_train, y_train = train['features'], train['labels']\n",
    "X_valid, y_valid = valid['features'], valid['labels']\n",
    "X_test, y_test = test['features'], test['labels']"
   ]
  },
  {
   "cell_type": "markdown",
   "metadata": {},
   "source": [
    "---\n",
    "\n",
    "## Step 1: Dataset Summary & Exploration\n",
    "\n",
    "The pickled data is a dictionary with 4 key/value pairs:\n",
    "\n",
    "- `'features'` is a 4D array containing raw pixel data of the traffic sign images, (num examples, width, height, channels).\n",
    "- `'labels'` is a 1D array containing the label/class id of the traffic sign. The file `signnames.csv` contains id -> name mappings for each id.\n",
    "- `'sizes'` is a list containing tuples, (width, height) representing the original width and height the image.\n",
    "- `'coords'` is a list containing tuples, (x1, y1, x2, y2) representing coordinates of a bounding box around the sign in the image. **THESE COORDINATES ASSUME THE ORIGINAL IMAGE. THE PICKLED DATA CONTAINS RESIZED VERSIONS (32 by 32) OF THESE IMAGES**\n",
    "\n",
    "Complete the basic data summary below. Use python, numpy and/or pandas methods to calculate the data summary rather than hard coding the results. For example, the [pandas shape method](http://pandas.pydata.org/pandas-docs/stable/generated/pandas.DataFrame.shape.html) might be useful for calculating some of the summary results. "
   ]
  },
  {
   "cell_type": "markdown",
   "metadata": {},
   "source": [
    "### Provide a Basic Summary of the Data Set Using Python, Numpy and/or Pandas"
   ]
  },
  {
   "cell_type": "code",
   "execution_count": 4,
   "metadata": {},
   "outputs": [
    {
     "name": "stdout",
     "output_type": "stream",
     "text": [
      "Number of training examples = 34799\n",
      "Number of validation examples = 4410\n",
      "Number of testing examples = 12630\n",
      "Image data shape = (32, 32, 3)\n",
      "Number of classes = 43\n"
     ]
    }
   ],
   "source": [
    "### Replace each question mark with the appropriate value. \n",
    "### Use python, pandas or numpy methods rather than hard coding the results\n",
    "\n",
    "import numpy as np\n",
    "# TODO: Number of training examples\n",
    "n_train = len(X_train)\n",
    "\n",
    "# TODO: Number of validation examples\n",
    "n_validation = len(X_valid)\n",
    "\n",
    "# TODO: Number of testing examples.\n",
    "n_test = len(X_test)#preprocess images to grayscale with color channel as 1\n",
    "# color_num = 1\n",
    "\n",
    "# TODO: What's the shape of an traffic sign image?\n",
    "image_shape = np.array(X_train[0]).shape\n",
    "\n",
    "# TODO: How many unique classes/labels there are in the dataset.\n",
    "n_classes = len(np.unique(y_train))\n",
    "\n",
    "print(\"Number of training examples =\", n_train)\n",
    "print(\"Number of validation examples =\",n_validation)\n",
    "print(\"Number of testing examples =\", n_test)\n",
    "print(\"Image data shape =\", image_shape)\n",
    "print(\"Number of classes =\", n_classes)"
   ]
  },
  {
   "cell_type": "markdown",
   "metadata": {},
   "source": [
    "### Include an exploratory visualization of the dataset"
   ]
  },
  {
   "cell_type": "markdown",
   "metadata": {},
   "source": [
    "Visualize the German Traffic Signs Dataset using the pickled file(s). This is open ended, suggestions include: plotting traffic sign images, plotting the count of each sign, etc. \n",
    "\n",
    "The [Matplotlib](http://matplotlib.org/) [examples](http://matplotlib.org/examples/index.html) and [gallery](http://matplotlib.org/gallery.html) pages are a great resource for doing visualizations in Python.\n",
    "\n",
    "**NOTE:** It's recommended you start with something simple first. If you wish to do more, come back to it after you've completed the rest of the sections. It can be interesting to look at the distribution of classes in the training, validation and test set. Is the distribution the same? Are there more examples of some classes than others?"
   ]
  },
  {
   "cell_type": "code",
   "execution_count": 5,
   "metadata": {
    "scrolled": true
   },
   "outputs": [
    {
     "name": "stdout",
     "output_type": "stream",
     "text": [
      "Min value of labels:    0\n",
      "Max value of labels:   42\n"
     ]
    },
    {
     "data": {
      "image/png": "[encoded data removed]",
      "text/plain": [
       "<matplotlib.figure.Figure at 0x7f872718d128>"
      ]
     },
     "metadata": {},
     "output_type": "display_data"
    }
   ],
   "source": [
    "### Data exploration visualization code goes here.\n",
    "### Feel free to use as many code cells as needed.\n",
    "import matplotlib.pyplot as plt\n",
    "import statistics\n",
    "# Visualizations will be shown in the notebook.\n",
    "%matplotlib inline\n",
    "print('Min value of labels:{:>5}\\nMax value of labels:{:>5}'.format(min(y_train),max(y_train)))\n",
    "\n",
    "#histograph of train, valid and test data\n",
    "labels_list = list(range(n_classes))\n",
    "fig_his = plt.figure(figsize=(15,4))\n",
    "fig_his.add_subplot(1,3,1)\n",
    "plt.hist(y_train, labels_list,facecolor ='g',rwidth=0.8)\n",
    "plt.title('Distribution of Train data')\n",
    "fig_his.add_subplot(1,3,2)\n",
    "plt.hist(y_valid,labels_list,rwidth=0.8)\n",
    "plt.title('Distribution of Validation data')\n",
    "fig_his.add_subplot(1,3,3)\n",
    "plt.hist(y_test,labels_list,rwidth=0.8)\n",
    "plt.title('Distribution of Test data')\n",
    "plt.show()"
   ]
  },
  {
   "cell_type": "markdown",
   "metadata": {},
   "source": [
    "----\n",
    "\n",
    "## Step 2: Design and Test a Model Architecture\n",
    "\n",
    "Design and implement a deep learning model that learns to recognize traffic signs. Train and test your model on the [German Traffic Sign Dataset](http://benchmark.ini.rub.de/?section=gtsrb&subsection=dataset).\n",
    "\n",
    "The LeNet-5 implementation shown in the [classroom](https://classroom.udacity.com/nanodegrees/nd013/parts/fbf77062-5703-404e-b60c-95b78b2f3f9e/modules/6df7ae49-c61c-4bb2-a23e-6527e69209ec/lessons/601ae704-1035-4287-8b11-e2c2716217ad/concepts/d4aca031-508f-4e0b-b493-e7b706120f81) at the end of the CNN lesson is a solid starting point. You'll have to change the number of classes and possibly the preprocessing, but aside from that it's plug and play! \n",
    "\n",
    "With the LeNet-5 solution from the lecture, you should expect a validation set accuracy of about 0.89. To meet specifications, the validation set accuracy will need to be at least 0.93. It is possible to get an even higher accuracy, but 0.93 is the minimum for a successful project submission. \n",
    "\n",
    "There are various aspects to consider when thinking about this problem:\n",
    "\n",
    "- Neural network architecture (is the network over or underfitting?)\n",
    "- Play around preprocessing techniques (normalization, rgb to grayscale, etc)\n",
    "- Number of examples per label (some have more than others).\n",
    "- Generate fake data.\n",
    "\n",
    "Here is an example of a [published baseline model on this problem](http://yann.lecun.com/exdb/publis/pdf/sermanet-ijcnn-11.pdf). It's not required to be familiar with the approach used in the paper but, it's good practice to try to read papers like these."
   ]
  },
  {
   "cell_type": "markdown",
   "metadata": {},
   "source": [
    "### Pre-process the Data Set (normalization, grayscale, etc.)"
   ]
  },
  {
   "cell_type": "markdown",
   "metadata": {},
   "source": [
    "Minimally, the image data should be normalized so that the data has mean zero and equal variance. For image data, `(pixel - 128)/ 128` is a quick way to approximately normalize the data and can be used in this project. \n",
    "\n",
    "Other pre-processing steps are optional. You can try different techniques to see if it improves performance. \n",
    "\n",
    "Use the code cell (or multiple code cells, if necessary) to implement the first step of your project."
   ]
  },
  {
   "cell_type": "code",
   "execution_count": 6,
   "metadata": {},
   "outputs": [
    {
     "data": {
      "image/png": "[encoded data removed]",
      "text/plain": [
       "<matplotlib.figure.Figure at 0x7f8724d857f0>"
      ]
     },
     "metadata": {},
     "output_type": "display_data"
    }
   ],
   "source": [
    "# Preprocess the data here. It is required to normalize the data. Other preprocessing steps could include \n",
    "import cv2\n",
    "# converting to grayscale.\n",
    "def grayscale(input_image):\n",
    "    \"\"\"Apply grayscale transform \n",
    "    to input input_image\"\"\"\n",
    "    return cv2.cvtColor(input_image, cv2.COLOR_RGB2GRAY)\n",
    "\n",
    "\n",
    "def rgb2yuv(input_image):\n",
    "    \"\"\"Apply YUV transform for input image.\n",
    "    Y′ stands for the luma component (the brightness) \n",
    "    U and V are the chrominance (color) components\n",
    "    \"\"\"\n",
    "    return cv2.cvtColor(input_image, cv2.COLOR_RGB2YUV)\n",
    "### Feel free to use as many code cells as needed.\n",
    "#TEST\n",
    "testIm = X_train[235]\n",
    "\n",
    "test1 = np.copy(testIm)\n",
    "fig = plt.figure()\n",
    "\n",
    "# print original image\n",
    "fig.add_subplot(1,3,1)\n",
    "plt.imshow(test1)\n",
    "plt.title('Origin',fontsize = 13)\n",
    "plt.text(16,42,test1.shape, ha='center',fontsize=13)\n",
    "\n",
    "# print grayscaled image\n",
    "test1_g = grayscale(test1)\n",
    "fig.add_subplot(1,3,2)\n",
    "plt.imshow(test1_g)\n",
    "plt.title('Grayscale',fontsize = 13)\n",
    "plt.text(16,42,test1_g.shape, ha='center',fontsize=13)\n",
    "\n",
    "# print YUV image\n",
    "test1_y = rgb2yuv(test1)\n",
    "test1_y = test1_y[:,:,0]\n",
    "fig.add_subplot(1,3,3)\n",
    "plt.imshow(test1_y)\n",
    "plt.title('Conrast channel',fontsize = 13)\n",
    "plt.text(16,42,test1_y.shape, ha='center',fontsize=13)\n",
    "\n",
    "plt.show()"
   ]
  },
  {
   "cell_type": "markdown",
   "metadata": {},
   "source": [
    "> ** First training was fed with original rgb images and got an nearly 0.9 validation accuracy, so I tried the second time with grayscale only, normalization only and grayscale combined normalization. The former yield under 0.9 accuracy while the latter yield worse with differenct epochs, steps. Then I got an at least over 0.9 accuracy with single channel Y after an YUV transform. So the following training will be preprocessed to Y-channelled image with other possible augmentations. **"
   ]
  },
  {
   "cell_type": "markdown",
   "metadata": {},
   "source": [
    "> ** Trained with normalization give poor validation accuracy, so the following training will not use normalization**"
   ]
  },
  {
   "cell_type": "code",
   "execution_count": 7,
   "metadata": {
    "collapsed": true
   },
   "outputs": [],
   "source": [
    "import random as rd"
   ]
  },
  {
   "cell_type": "code",
   "execution_count": 8,
   "metadata": {},
   "outputs": [
    {
     "name": "stdout",
     "output_type": "stream",
     "text": [
      "1\n"
     ]
    },
    {
     "data": {
      "image/png": "[encoded data removed]",
      "text/plain": [
       "<matplotlib.figure.Figure at 0x7f874c2e0048>"
      ]
     },
     "metadata": {},
     "output_type": "display_data"
    },
    {
     "name": "stdout",
     "output_type": "stream",
     "text": [
      "Original image shape    : (32, 32, 3)\n",
      "Preprocessed image shape: (32, 32)\n",
      "(32, 32)\n"
     ]
    },
    {
     "data": {
      "image/png": "[encoded data removed]",
      "text/plain": [
       "<matplotlib.figure.Figure at 0x7f871c228d30>"
      ]
     },
     "metadata": {},
     "output_type": "display_data"
    }
   ],
   "source": [
    "#pre-process image\n",
    "def pre_process(image):\n",
    "    \"\"\"Pre-process input image:\n",
    "    1. grayscale\n",
    "    2. yuv-transform\n",
    "    3. normalize with formular: (pixal - 125)/125\n",
    "    4. TODO: add further preprocession if necessary...\n",
    "    \"\"\"\n",
    "    gray = grayscale(image)\n",
    "#     yuv = rgb2yuv(image)\n",
    "#     y_channel = yuv[:,:,0]\n",
    "#     print(y_channel)\n",
    "#     print(yuv[:,:,1])\n",
    "#     print(yuv[::,2])\n",
    "#     print(y_channel.std())\n",
    "#     print(y_channel.mean())\n",
    "#     local = 255*(y_channel-y_channel.mean())/y_channel.std()\n",
    "\n",
    "#     local = mean_std_norm(local)#(gray)\n",
    "#     rgb = cv2.cvtColor(norm,cv2.COLOR_GRAY2RGB)\n",
    "    #TODO: add further preprocession 235\n",
    "    return gray/255.0-0.5\n",
    "# test\n",
    "\n",
    "tem_in = rd.randint(0,len(X_train))\n",
    "test_im = X_train[tem_in]\n",
    "test_np = np.copy(test_im)\n",
    "print(y_train[tem_in])\n",
    "plt.imshow(test_im)\n",
    "plt.show()\n",
    "print('Original image shape    : {}'.format(test_np.shape))\n",
    "test_pre = pre_process(test_np)\n",
    "print('Preprocessed image shape: {}'.format(test_pre.shape))\n",
    "plt.imshow(test_pre,cmap='gray')\n",
    "print(test_pre.shape)\n",
    "plt.title('Pre-processed image')\n",
    "plt.show()"
   ]
  },
  {
   "cell_type": "code",
   "execution_count": 9,
   "metadata": {
    "collapsed": true
   },
   "outputs": [],
   "source": [
    "#augment bightness reference from (https://medium.com/@vivek.yadav/\n",
    "#improved-performance-of-deep-learning-neural-network-models-on-traffic-sign-classification-using-6355346da2dc)\n",
    "def augment_brightness_camera_images(image):\n",
    "    image1 = cv2.cvtColor(image,cv2.COLOR_RGB2HSV)\n",
    "    image1 = np.array(image1, dtype = np.float64)\n",
    "    random_bright = .5+np.random.uniform()\n",
    "    image1[:,:,2] = image1[:,:,2]*random_bright\n",
    "    image1[:,:,2][image1[:,:,2]>255]  = 255\n",
    "    image1 = np.array(image1, dtype = np.uint8)\n",
    "    image1 = cv2.cvtColor(image1,cv2.COLOR_HSV2RGB)\n",
    "    return image1"
   ]
  },
  {
   "cell_type": "code",
   "execution_count": 10,
   "metadata": {},
   "outputs": [
    {
     "name": "stdout",
     "output_type": "stream",
     "text": [
      "(33, 33, 3)\n"
     ]
    },
    {
     "data": {
      "text/plain": [
       "<matplotlib.image.AxesImage at 0x7f8718404ba8>"
      ]
     },
     "execution_count": 10,
     "metadata": {},
     "output_type": "execute_result"
    },
    {
     "data": {
      "image/png": "[encoded data removed]",
      "text/plain": [
       "<matplotlib.figure.Figure at 0x7f874cb49d68>"
      ]
     },
     "metadata": {},
     "output_type": "display_data"
    }
   ],
   "source": [
    "def random_resize(image=None, resize_x=1, resize_y=1, rd_resize = True):\n",
    "    \"\"\"Random resizing image for \n",
    "    @res_x: x dimension and \n",
    "    @res_y: dimension\n",
    "    @rd_resize: True by default, resizing out put will be \n",
    "                calculated based on resize_x if resize_y not given\n",
    "                \"\"\"\n",
    "    if image is None or resize_x <=0 or resize_y <0:\n",
    "        print('Input image is none')\n",
    "        return None\n",
    "    \n",
    "    if rd_resize: # return an randomly resized images within01 and given extension coefficients\n",
    "        fx = rd.uniform(resize_x*.9,resize_x*1.1)\n",
    "        if resize_y == 0:\n",
    "            fy = fx\n",
    "            return cv2.resize(image,None,fx=fx, fy=fy, interpolation = cv2.INTER_CUBIC)\n",
    "        else:\n",
    "            fy = rd.uniform(resize_y*0.9,resize_y*1.1)\n",
    "#             print('Image distorted!')\n",
    "            return cv2.resize(image,None,fx= fx, fy= fy, interpolation = cv2.INTER_CUBIC)\n",
    "    else:\n",
    "        return cv2.resize(image,None,fx=resize_x, fy=resize_y, interpolation = cv2.INTER_CUBIC)\n",
    "    \n",
    "res = random_resize(test_np,1,0)\n",
    "print(res.shape)\n",
    "plt.imshow(res)"
   ]
  },
  {
   "cell_type": "code",
   "execution_count": 11,
   "metadata": {},
   "outputs": [
    {
     "name": "stdout",
     "output_type": "stream",
     "text": [
      "(36, 42, 3)\n"
     ]
    },
    {
     "data": {
      "text/plain": [
       "<matplotlib.image.AxesImage at 0x7f8718324550>"
      ]
     },
     "execution_count": 11,
     "metadata": {},
     "output_type": "execute_result"
    },
    {
     "data": {
      "image/png": "[encoded data removed]",
      "text/plain": [
       "<matplotlib.figure.Figure at 0x7f87183cdba8>"
      ]
     },
     "metadata": {},
     "output_type": "display_data"
    }
   ],
   "source": [
    "def random_padding(image = None, output_size = (None, None)):\n",
    "    \"\"\"Randomly padding black borders\"\"\"\n",
    "    if image is None:\n",
    "        return None\n",
    "    if output_size[0] is None or output_size[1] is None:\n",
    "        return None\n",
    "    pad = np.copy(image)\n",
    "    if len(pad.shape) <2:\n",
    "        return None\n",
    "    rows, cols = pad.shape[:2]\n",
    "    r_pad = output_size[0]-rows\n",
    "    c_pad = output_size[1]-cols\n",
    "    if r_pad < 0 or c_pad <0:\n",
    "        return image\n",
    "    else:\n",
    "        up = rd.randint(0,r_pad)\n",
    "        down = r_pad - up\n",
    "        left = rd.randint(0,c_pad)\n",
    "        right = c_pad - left\n",
    "        return cv2.copyMakeBorder(pad,up,down,left,right,cv2.BORDER_CONSTANT,value=(0))\n",
    "#test    \n",
    "rp = random_padding(test_np,(36,42))\n",
    "print(rp.shape)\n",
    "plt.imshow(rp)"
   ]
  },
  {
   "cell_type": "code",
   "execution_count": 12,
   "metadata": {},
   "outputs": [
    {
     "name": "stdout",
     "output_type": "stream",
     "text": [
      "(30, 32, 3)\n"
     ]
    },
    {
     "data": {
      "text/plain": [
       "<matplotlib.image.AxesImage at 0x7f87182bb860>"
      ]
     },
     "execution_count": 12,
     "metadata": {},
     "output_type": "execute_result"
    },
    {
     "data": {
      "image/png": "[encoded data removed]",
      "text/plain": [
       "<matplotlib.figure.Figure at 0x7f8718361860>"
      ]
     },
     "metadata": {},
     "output_type": "display_data"
    }
   ],
   "source": [
    "def random_crop(image=None, crop_frame = (None,None)):\n",
    "    if image is None:\n",
    "        return None\n",
    "    if crop_frame[0] is None or crop_frame[1] is None:\n",
    "        return image\n",
    "    crop_i = np.copy(image)\n",
    "    if len(crop_i.shape) <2:\n",
    "        return None\n",
    "    #rows number and colunms number of input image\n",
    "    rows, cols = crop_i.shape[:2]\n",
    "    \n",
    "    if crop_frame[0] > rows  and crop_frame[1] > cols:\n",
    "        print('Expected dimensions exceed input image, original image will be returned!')\n",
    "        return image\n",
    "    row_max = rows - crop_frame[0]\n",
    "    col_max = cols - crop_frame[1]\n",
    "    if row_max <= 0:\n",
    "        row_max = 0\n",
    "    if col_max <= 0:\n",
    "        col_max = 0\n",
    "        \n",
    "    row_start = rd.randint(0,row_max)\n",
    "    col_start = rd.randint(0,col_max)\n",
    "    return crop_i[row_start:row_start+crop_frame[0],col_start:col_start+crop_frame[1]]\n",
    "enlarge = random_crop(random_resize(test_np,2),(32,32))\n",
    "print(enlarge.shape)\n",
    "plt.imshow(enlarge)"
   ]
  },
  {
   "cell_type": "code",
   "execution_count": 13,
   "metadata": {},
   "outputs": [
    {
     "name": "stdout",
     "output_type": "stream",
     "text": [
      "(32, 32, 3)\n"
     ]
    },
    {
     "data": {
      "text/plain": [
       "<matplotlib.image.AxesImage at 0x7f87181d74a8>"
      ]
     },
     "execution_count": 13,
     "metadata": {},
     "output_type": "execute_result"
    },
    {
     "data": {
      "image/png": "[encoded data removed]",
      "text/plain": [
       "<matplotlib.figure.Figure at 0x7f8718345d68>"
      ]
     },
     "metadata": {},
     "output_type": "display_data"
    }
   ],
   "source": [
    "def image_resize(image = None,resize_x = 3,resize_y = 1,re_size=(32,32)):\n",
    "    \"\"\"Get images randomly resized and adjusted to (32,32)\"\"\"\n",
    "    if image is None:\n",
    "        return None\n",
    "    resize = random_resize(image,resize_x,resize_y)\n",
    "    if resize.shape[0] > re_size[0] or resize.shape[1] > re_size[1]:\n",
    "        crop = random_crop(resize,re_size)\n",
    "        pad = random_padding(crop,re_size)\n",
    "        return pad\n",
    "    else:\n",
    "        return image\n",
    "\n",
    "#test\n",
    "re_image = image_resize(test_np,1,1,re_size=(32,32))\n",
    "print(re_image.shape)\n",
    "plt.imshow(re_image)"
   ]
  },
  {
   "cell_type": "code",
   "execution_count": 14,
   "metadata": {},
   "outputs": [
    {
     "name": "stdout",
     "output_type": "stream",
     "text": [
      "(32, 32, 3)\n",
      "(32, 32, 3)\n"
     ]
    },
    {
     "data": {
      "text/plain": [
       "<matplotlib.image.AxesImage at 0x7f871816bb00>"
      ]
     },
     "execution_count": 14,
     "metadata": {},
     "output_type": "execute_result"
    },
    {
     "data": {
      "image/png": "[encoded data removed]",
      "text/plain": [
       "<matplotlib.figure.Figure at 0x7f8718217b70>"
      ]
     },
     "metadata": {},
     "output_type": "display_data"
    }
   ],
   "source": [
    "def random_translate(image=None,shift_x=0,shift_y=0, shift_factor=10):\n",
    "    \"\"\"Random shifting image wiht a given direction\n",
    "    @shift_x: x direction (0,1)\n",
    "    @shift_y: y direction (0,1)\n",
    "    @shift_factor: vertical or horizontal shifting percentage\n",
    "                  if both shift_x and shift_y are 0, then image\n",
    "                  will be randomly shifted within @shift_factor percentage \n",
    "                  of the original image\"\"\"\n",
    "    #TODO complete random shifting\n",
    "    trans = np.copy(image)\n",
    "    dim = trans.shape\n",
    "    if len(dim)<2:\n",
    "        return None\n",
    "    rows,cols = dim[:2]\n",
    "    dim_shift = (rd.randint(-shift_factor,shift_factor)/100,rd.randint(-shift_factor,shift_factor)/100) if shift_x==0 and shift_y==0 else (shift_x,shift_y)\n",
    "    rows_sh,cols_sh = np.multiply(dim_shift[:2],dim[:2])\n",
    "    return cv2.warpAffine(image,np.float32([[1,0,rows_sh],[0,1,cols_sh]]),(cols,rows))\n",
    "\n",
    "print(test_np.shape)\n",
    "dst = random_translate(test_np)\n",
    "print(dst.shape)\n",
    "plt.imshow(dst)"
   ]
  },
  {
   "cell_type": "code",
   "execution_count": 15,
   "metadata": {},
   "outputs": [
    {
     "data": {
      "text/plain": [
       "<matplotlib.image.AxesImage at 0x7f871810c208>"
      ]
     },
     "execution_count": 15,
     "metadata": {},
     "output_type": "execute_result"
    },
    {
     "data": {
      "image/png": "[encoded data removed]",
      "text/plain": [
       "<matplotlib.figure.Figure at 0x7f871821d550>"
      ]
     },
     "metadata": {},
     "output_type": "display_data"
    }
   ],
   "source": [
    "def random_rotate(image=None, max_rot_angle=5,zoom = 1):\n",
    "    \"\"\"Random shifting image wiht a given direction\n",
    "    @shift_x: x direction (0,1)\n",
    "    @shift_y: y direction (0,1)\n",
    "    @shift_factor: vertical or horizontal shifting percentage\n",
    "                  if both shift_x and shift_y are 0, then image\n",
    "                  will be randomly shifted within @shift_factor percentage \n",
    "                  of the original image\"\"\"\n",
    "    if image is None:\n",
    "        return None\n",
    "    rot = np.copy(image)\n",
    "    if len(rot.shape) < 2:\n",
    "        return None\n",
    "    rows,cols = rot.shape[:2]\n",
    "    M = cv2.getRotationMatrix2D((cols/2,rows/2),rd.randint(-max_rot_angle,max_rot_angle),rd.uniform(zoom*0.8,zoom*1.2))\n",
    "    return cv2.warpAffine(rot,M,(cols,rows))\n",
    "ro = random_rotate(test_np,45)\n",
    "plt.imshow(ro)"
   ]
  },
  {
   "cell_type": "code",
   "execution_count": 16,
   "metadata": {},
   "outputs": [
    {
     "data": {
      "text/plain": [
       "<matplotlib.image.AxesImage at 0x7f8718015a90>"
      ]
     },
     "execution_count": 16,
     "metadata": {},
     "output_type": "execute_result"
    },
    {
     "data": {
      "image/png": "[encoded data removed]",
      "text/plain": [
       "<matplotlib.figure.Figure at 0x7f87183c5518>"
      ]
     },
     "metadata": {},
     "output_type": "display_data"
    }
   ],
   "source": [
    "def random_flip(image= None):\n",
    "    if image is None:\n",
    "        return None\n",
    "    flip_code = rd.randint(-1,1)\n",
    "    return cv2.flip(image,flip_code)\n",
    "\n",
    "flip = np.copy(test_np)\n",
    "flip = random_flip(flip)\n",
    "plt.imshow(flip)"
   ]
  },
  {
   "cell_type": "code",
   "execution_count": 17,
   "metadata": {},
   "outputs": [
    {
     "data": {
      "image/png": "[encoded data removed]",
      "text/plain": [
       "<matplotlib.figure.Figure at 0x7f87183c5c50>"
      ]
     },
     "metadata": {},
     "output_type": "display_data"
    },
    {
     "data": {
      "text/plain": [
       "<matplotlib.image.AxesImage at 0x7f871804c208>"
      ]
     },
     "execution_count": 17,
     "metadata": {},
     "output_type": "execute_result"
    },
    {
     "data": {
      "image/png": "[encoded data removed]",
      "text/plain": [
       "<matplotlib.figure.Figure at 0x7f87182d10f0>"
      ]
     },
     "metadata": {},
     "output_type": "display_data"
    }
   ],
   "source": [
    "def random_salt_pepper(image = None):\n",
    "    dss = np.copy(image)\n",
    "    row,col,ch = dss.shape\n",
    "    s_vs_p = 0.5\n",
    "    amount = 0.004\n",
    "    out = np.copy(dss)\n",
    "    # Salt mode\n",
    "    num_salt = np.ceil(amount * dss.size * s_vs_p)\n",
    "    coords = [np.random.randint(0, i - 1, int(num_salt))\n",
    "              for i in dss.shape]\n",
    "    out[coords] = 1\n",
    "    # Pepper mode\n",
    "    num_pepper = np.ceil(amount* dss.size * (1. - s_vs_p))\n",
    "    coords = [np.random.randint(0, i - 1, int(num_pepper))\n",
    "              for i in dss.shape]\n",
    "    out[coords] = 0\n",
    "    return out\n",
    "sp = random_salt_pepper(test_np)\n",
    "plt.imshow(test_np)\n",
    "plt.show()\n",
    "plt.imshow(sp)"
   ]
  },
  {
   "cell_type": "code",
   "execution_count": 18,
   "metadata": {
    "collapsed": true
   },
   "outputs": [],
   "source": [
    "def augment_image(image = None):\n",
    "    \"\"\"Single process to augment one image\"\"\"\n",
    "    if image is None:\n",
    "        return None\n",
    "    out = image\n",
    "    prob = rd.uniform(0,1)\n",
    "    if  prob < 0.1: # resize the image with 30% probability\n",
    "        out = image_resize(out,1,1,(32,32))\n",
    "    elif prob < 0.2: #distort image with 20%\n",
    "        out = image_resize(out,1,0,(32,32))\n",
    "    elif prob < 0.4:\n",
    "        out = random_translate(out)\n",
    "    elif prob < 0.6:\n",
    "        out = random_rotate(out)\n",
    "    elif prob < 0.8:\n",
    "        out = random_salt_pepper(out)\n",
    "    else:\n",
    "        out = random_flip(out)\n",
    "    out = augment_brightness_camera_images(out)\n",
    "    return out"
   ]
  },
  {
   "cell_type": "code",
   "execution_count": 19,
   "metadata": {},
   "outputs": [
    {
     "name": "stdout",
     "output_type": "stream",
     "text": [
      "21\n"
     ]
    },
    {
     "data": {
      "text/plain": [
       "<matplotlib.image.AxesImage at 0x7f8717faecf8>"
      ]
     },
     "execution_count": 19,
     "metadata": {},
     "output_type": "execute_result"
    },
    {
     "data": {
      "image/png": "[encoded data removed]",
      "text/plain": [
       "<matplotlib.figure.Figure at 0x7f8718413630>"
      ]
     },
     "metadata": {},
     "output_type": "display_data"
    }
   ],
   "source": [
    "def image_augmentation(input_images = None, input_lables = None, aug_factor = 2):\n",
    "    \"\"\"batch process for Augment imagess\"\"\"\n",
    "    aug_images = []\n",
    "    aug_lables = []\n",
    "    \n",
    "    for im, la in zip(input_images,input_lables):\n",
    "        for i in range(aug_factor):\n",
    "            out = augment_image(im)\n",
    "            aug_images.append(out)\n",
    "            aug_lables.append(la)\n",
    "    return aug_images,aug_lables\n",
    "\n",
    "# test function\n",
    "rand_index = rd.randint(0,len(X_train))\n",
    "aug_image = augment_image(X_train[rand_index])\n",
    "aug_image = pre_process(aug_image)\n",
    "print(y_train[rand_index])\n",
    "plt.imshow(aug_image,cmap='gray')"
   ]
  },
  {
   "cell_type": "markdown",
   "metadata": {},
   "source": [
    "#### Image preprocessing ####"
   ]
  },
  {
   "cell_type": "code",
   "execution_count": 20,
   "metadata": {
    "collapsed": true
   },
   "outputs": [],
   "source": [
    "def image_preProcess(image_array):\n",
    "    \"\"\"image preprocessing\"\"\" \n",
    "    input_x = np.copy(image_array)\n",
    "    processed = []\n",
    "    for image in input_x:\n",
    "        pro = pre_process(image)\n",
    "        processed.append(pro.reshape((32,32,1)))\n",
    "    return processed"
   ]
  },
  {
   "cell_type": "markdown",
   "metadata": {},
   "source": [
    "### import tensorflow and sklearn ###"
   ]
  },
  {
   "cell_type": "code",
   "execution_count": 21,
   "metadata": {},
   "outputs": [
    {
     "name": "stderr",
     "output_type": "stream",
     "text": [
      "/home/keven/anaconda3/lib/python3.6/importlib/_bootstrap.py:205: RuntimeWarning: compiletime version 3.5 of module 'tensorflow.python.framework.fast_tensor_util' does not match runtime version 3.6\n",
      "  return f(*args, **kwds)\n"
     ]
    }
   ],
   "source": [
    "import tensorflow as tf\n",
    "from tensorflow.contrib.layers import flatten\n",
    "from sklearn.utils import shuffle"
   ]
  },
  {
   "cell_type": "code",
   "execution_count": 22,
   "metadata": {},
   "outputs": [
    {
     "name": "stdout",
     "output_type": "stream",
     "text": [
      "0.968934240633\n",
      "0\n"
     ]
    }
   ],
   "source": [
    "import os.path\n",
    "\n",
    "accuracy_file_dir = 'accuracy_file.txt'\n",
    "if not os.path.isfile(accuracy_file_dir):\n",
    "    file_create = open(accuracy_file_dir,'w')\n",
    "    file_create.write('0')\n",
    "    file_create.close()\n",
    "\n",
    "#read current validation accuracy of the model from csv\n",
    "with open(accuracy_file_dir) as f:\n",
    "    read_acc = f.readline()\n",
    "    print(read_acc)\n",
    "    current_max_accuracy = int(read_acc[0])\n",
    "\n",
    "if current_max_accuracy <=0:\n",
    "    current_max_accuracy =0\n",
    "print(current_max_accuracy)    "
   ]
  },
  {
   "cell_type": "markdown",
   "metadata": {},
   "source": [
    "### Model Architecture \n",
    "#### Implementation of AlexNet ###"
   ]
  },
  {
   "cell_type": "code",
   "execution_count": 26,
   "metadata": {
    "collapsed": true
   },
   "outputs": [],
   "source": [
    "def LeNet(x,color_channel=3):    \n",
    "    # Arguments used for tf.truncated_normal, randomly defines variables for the weights and biases for each layer\n",
    "    mu = 0\n",
    "    sigma = 0.1\n",
    "    weights = {\n",
    "        'wc1': tf.Variable(tf.truncated_normal([5,5,color_channel,8], mu, sigma)), #for rgb image, the 3-dim of input is 3 \n",
    "        'wc2': tf.Variable(tf.truncated_normal([5,5,8,16], mu, sigma)),\n",
    "        'wc3': tf.Variable(tf.truncated_normal([5,5,16,64], mu, sigma)),\n",
    "        'wf3': tf.Variable(tf.truncated_normal([1408,172], mu, sigma)),\n",
    "        'wf4': tf.Variable(tf.truncated_normal([172,86], mu, sigma)),\n",
    "        'wf5': tf.Variable(tf.truncated_normal([86,n_classes], mu, sigma))\n",
    "    }\n",
    "    biases = {\n",
    "        'b1' : tf.Variable(tf.zeros([8])),\n",
    "        'b2' : tf.Variable(tf.zeros([16])),\n",
    "        'b3' : tf.Variable(tf.zeros([64])),\n",
    "        'bf3' : tf.Variable(tf.zeros([172])),\n",
    "        'bf4' : tf.Variable(tf.zeros([86])),\n",
    "        'bf5' : tf.Variable(tf.zeros([n_classes]))\n",
    "    }\n",
    "    strides = [1,1,1,1]\n",
    "    cv_padding = 'SAME'\n",
    "    mp_padding = 'VALID'\n",
    "    keep_prob = tf.placeholder(tf.float32,(5))\n",
    "\n",
    "    \n",
    "    # Layer 1: Convolutional. Input = 32x32x1. Output = 8@32x32\n",
    "    cv_1 = tf.nn.conv2d(x,weights['wc1'],strides,cv_padding)\n",
    "    cv_1 = tf.nn.bias_add(cv_1,biases['b1'])\n",
    "    cv_1 = tf.nn.relu(cv_1)\n",
    "    \n",
    "    # Pooling. Input = 8@32x32. Output = 8@16x16.\n",
    "    k_pool = [1,2,2,1]\n",
    "    s_pool = [1,2,2,1]\n",
    "    cv_1 = tf.nn.max_pool(cv_1,k_pool,s_pool, mp_padding)\n",
    "    cv_1 = tf.nn.dropout(cv_1,keep_prob[0])\n",
    "    \n",
    "    # Layer 2: Convolutional. Input = 8@16x16, Output = 16@16x16\n",
    "    cv_2 = tf.nn.conv2d(cv_1,weights['wc2'],strides,cv_padding)\n",
    "    cv_2 = tf.nn.bias_add(cv_2, biases['b2'])\n",
    "    cv_2 = tf.nn.relu(cv_2)\n",
    "    \n",
    "    # Pooling. Input = 16@16x16. Output = 16@8x8.\n",
    "    cv_2 = tf.nn.max_pool(cv_2, k_pool,s_pool,mp_padding)\n",
    "    cv_2 = tf.nn.dropout(cv_2,keep_prob[1])\n",
    "\n",
    "    # Layer 3: Convolutional. Input = 16@8X8, Output = 64@8x8\n",
    "    cv_3 = tf.nn.conv2d(cv_2,weights['wc3'],strides,cv_padding)\n",
    "    cv_3 = tf.nn.bias_add(cv_3, biases['b3'])\n",
    "    cv_3 = tf.nn.relu(cv_3)\n",
    "    \n",
    "    # Pooling. Input = 64@8X8. Output = 64@4X4.\n",
    "    cv_3 = tf.nn.max_pool(cv_3, k_pool,s_pool,mp_padding)\n",
    "    cv_3 = tf.nn.dropout(cv_3,keep_prob[2])\n",
    "\n",
    "    \n",
    "    # Layer 1 Feedforward mp with 4 times downsampling: Input = 8@16x16, Output = 8@4x4\n",
    "    cv_1_mp = tf.nn.max_pool(cv_1,[1,4,4,1],[1,4,4,1], mp_padding)\n",
    "    # Flatten. Input = 8@4x4. Output = 128.    \n",
    "    fl1 = flatten(cv_1_mp)\n",
    "    \n",
    "    # Layer 2 Feedforward mp with 2 times downsampling: Input = 16@8x8, Output = 16@4x4\n",
    "    cv_2_mp = tf.nn.max_pool(cv_2,[1,2,2,1],[1,2,2,1], mp_padding)\n",
    "    # Flatten. Input = 16@4x4. Output = 256.    \n",
    "    fl2 = flatten(cv_2_mp)\n",
    "    \n",
    "    # Layer 3 flatten: Input = 64@4X4, Output = 1024\n",
    "    fl3 = flatten(cv_3)\n",
    "    \n",
    "    # Concatenate layer 1, layer 2 and layer 3. Input 1: 128, Input 2: 256,Input 3: 1024, Output = 1408\n",
    "    fl = tf.concat([fl1,fl2,fl3],1)\n",
    "#     fl = fl3\n",
    "\n",
    "    # Layer 3: Fully Connected. Input = 1408. Output = 172.\n",
    "    fc_1 = tf.add(tf.matmul(fl,weights['wf3']), biases['bf3'])\n",
    "    # Activation.\n",
    "    fc_1 = tf.nn.relu(fc_1)\n",
    "    #add dropout layer to control the complexity of the model , prevents co-adaptation of\n",
    "    # features.\n",
    "    fc_1 = tf.nn.dropout(fc_1,keep_prob[3])\n",
    "    # TODO: Layer 4: Fully Connected. Input = 172. Output = 86.\n",
    "    fc_2 = tf.add(tf.matmul(fc_1, weights['wf4']), biases['bf4'])\n",
    "#     # TODO: Activation.\n",
    "    fc_2 = tf.nn.relu(fc_2)\n",
    "#     #second dropout layer to control the complexity of the model , prevents co-adaptation of\n",
    "#     # features.\n",
    "    fc_2 = tf.nn.dropout(fc_2,keep_prob[4])\n",
    "    # TODO: Layer 5: Fully Connected. Input = 86. Output = 43.\n",
    "    logits = tf.add(tf.matmul(fc_2, weights['wf5']), biases['bf5'])\n",
    "    return logits,keep_prob"
   ]
  },
  {
   "cell_type": "markdown",
   "metadata": {},
   "source": [
    "### Train, Validate and Test the Model"
   ]
  },
  {
   "cell_type": "code",
   "execution_count": 24,
   "metadata": {
    "collapsed": true
   },
   "outputs": [],
   "source": [
    "#image augmentation by 10\n",
    "X_train_au, y_train_au = image_augmentation(X_train,y_train,10)\n",
    "# print(np.array(X_train_au).shape)\n",
    "# print(np.array(y_train_au).shape)\n",
    "X_train_au = np.concatenate((X_train, X_train_au))\n",
    "y_train_au = np.concatenate((y_train, y_train_au))\n",
    "# print(X_train_au.shape)\n",
    "# print(y_train_au.shape)\n",
    "# color channel number of input images,original is rgb with value = 3\n",
    "# color_num = 3\n",
    "x_train_pre = image_preProcess(X_train_au)\n",
    "x_valid_pre = image_preProcess(X_valid)\n",
    "# x_train_pre = X_train\n",
    "# y_train_au = y_train\n",
    "# x_valid_pre = X_valid"
   ]
  },
  {
   "cell_type": "markdown",
   "metadata": {},
   "source": [
    "A validation set can be used to assess how well the model is performing. A low accuracy on the training and validation\n",
    "sets imply underfitting. A high accuracy on the training set but low accuracy on the validation set implies overfitting."
   ]
  },
  {
   "cell_type": "code",
   "execution_count": 27,
   "metadata": {
    "scrolled": true
   },
   "outputs": [],
   "source": [
    "#define epochs and batch size\n",
    "EPOCHS = 50\n",
    "BATCH_SIZE = 128\n",
    "rate = 0.001\n",
    "\n",
    "# Pre-processed\n",
    "# x_train,x_valid,color_num = x_train_pre,x_valid_pre,1\n",
    "# original\n",
    "# x_train,x_valid, color_num = X_train,X_valid,3\n",
    "color_num = 1\n",
    "\n",
    "# Features and Labels\n",
    "x = tf.placeholder(tf.float32, (None, 32,32,color_num)) # for rgb images, the third dimentions is 3\n",
    "y = tf.placeholder(tf.int32,(None))\n",
    "one_hot_y = tf.one_hot(y, n_classes)\n",
    "\n",
    "### Train your model here.\n",
    "### Calculate and report the accuracy on the training and validation set.\n",
    "### Once a final model architecture is selected, \n",
    "### the accuracy on the test set should be calculated and reported as well.\n",
    "### Feel free to use as many code cells as needed.\n",
    "\n",
    "#Training pipeline \n",
    "logits,keep_prob = LeNet(x,color_num)\n",
    "cross_entropy = tf.nn.softmax_cross_entropy_with_logits(labels=one_hot_y, logits=logits)\n",
    "loss_operation = tf.reduce_mean(cross_entropy)\n",
    "optimizer = tf.train.AdamOptimizer(learning_rate = rate)\n",
    "training_operation = optimizer.minimize(loss_operation)"
   ]
  },
  {
   "cell_type": "markdown",
   "metadata": {},
   "source": [
    "####  Evaluation model ####"
   ]
  },
  {
   "cell_type": "code",
   "execution_count": 32,
   "metadata": {},
   "outputs": [
    {
     "name": "stdout",
     "output_type": "stream",
     "text": [
      "INFO:tensorflow:Restoring parameters from ./lenet\n",
      "Training...\n",
      "\n",
      "EPOCH 1 ...\n",
      "Training accuracy   = 0.801\n",
      "Validation Accuracy = 0.835\n",
      "\n",
      "EPOCH 2 ...\n",
      "Training accuracy   = 0.896\n",
      "Validation Accuracy = 0.909\n",
      "\n",
      "EPOCH 3 ...\n",
      "Training accuracy   = 0.921\n",
      "Validation Accuracy = 0.931\n",
      "\n",
      "EPOCH 4 ...\n",
      "Training accuracy   = 0.929\n",
      "Validation Accuracy = 0.935\n",
      "\n",
      "EPOCH 5 ...\n",
      "Training accuracy   = 0.941\n",
      "Validation Accuracy = 0.950\n",
      "\n",
      "EPOCH 6 ...\n",
      "Training accuracy   = 0.948\n",
      "Validation Accuracy = 0.956\n",
      "\n",
      "EPOCH 7 ...\n",
      "Training accuracy   = 0.950\n",
      "Validation Accuracy = 0.957\n",
      "\n",
      "EPOCH 8 ...\n",
      "Training accuracy   = 0.952\n",
      "Validation Accuracy = 0.956\n",
      "\n",
      "EPOCH 9 ...\n",
      "Training accuracy   = 0.957\n",
      "Validation Accuracy = 0.959\n",
      "\n",
      "EPOCH 10 ...\n",
      "Training accuracy   = 0.961\n",
      "Validation Accuracy = 0.966\n",
      "\n",
      "EPOCH 11 ...\n",
      "Training accuracy   = 0.964\n",
      "Validation Accuracy = 0.968\n",
      "\n",
      "EPOCH 12 ...\n",
      "Training accuracy   = 0.964\n",
      "Validation Accuracy = 0.959\n",
      "\n",
      "EPOCH 13 ...\n",
      "Training accuracy   = 0.965\n",
      "Validation Accuracy = 0.961\n",
      "\n",
      "EPOCH 14 ...\n",
      "Training accuracy   = 0.964\n",
      "Validation Accuracy = 0.960\n",
      "\n",
      "EPOCH 15 ...\n",
      "Training accuracy   = 0.966\n",
      "Validation Accuracy = 0.964\n",
      "\n",
      "EPOCH 16 ...\n",
      "Training accuracy   = 0.968\n",
      "Validation Accuracy = 0.966\n",
      "\n",
      "EPOCH 17 ...\n",
      "Training accuracy   = 0.962\n",
      "Validation Accuracy = 0.958\n",
      "\n",
      "EPOCH 18 ...\n",
      "Training accuracy   = 0.956\n",
      "Validation Accuracy = 0.950\n",
      "\n",
      "EPOCH 19 ...\n",
      "Training accuracy   = 0.953\n",
      "Validation Accuracy = 0.961\n",
      "\n",
      "EPOCH 20 ...\n",
      "Training accuracy   = 0.970\n",
      "Validation Accuracy = 0.965\n",
      "\n",
      "EPOCH 21 ...\n",
      "Training accuracy   = 0.971\n",
      "Validation Accuracy = 0.966\n",
      "\n",
      "EPOCH 22 ...\n",
      "Training accuracy   = 0.969\n",
      "Validation Accuracy = 0.968\n",
      "\n",
      "EPOCH 23 ...\n",
      "Training accuracy   = 0.968\n",
      "Validation Accuracy = 0.958\n",
      "\n",
      "EPOCH 24 ...\n",
      "Training accuracy   = 0.970\n",
      "Validation Accuracy = 0.966\n",
      "\n",
      "EPOCH 25 ...\n",
      "Training accuracy   = 0.973\n",
      "Validation Accuracy = 0.968\n",
      "\n",
      "EPOCH 26 ...\n",
      "Training accuracy   = 0.971\n",
      "Validation Accuracy = 0.962\n",
      "\n",
      "EPOCH 27 ...\n",
      "Training accuracy   = 0.975\n",
      "Validation Accuracy = 0.961\n",
      "\n",
      "EPOCH 28 ...\n",
      "Training accuracy   = 0.972\n",
      "Validation Accuracy = 0.970\n",
      "\n",
      "EPOCH 29 ...\n",
      "Training accuracy   = 0.972\n",
      "Validation Accuracy = 0.960\n",
      "\n",
      "EPOCH 30 ...\n",
      "Training accuracy   = 0.973\n",
      "Validation Accuracy = 0.963\n",
      "\n",
      "EPOCH 31 ...\n",
      "Training accuracy   = 0.974\n",
      "Validation Accuracy = 0.964\n",
      "\n",
      "EPOCH 32 ...\n",
      "Training accuracy   = 0.974\n",
      "Validation Accuracy = 0.970\n",
      "\n",
      "EPOCH 33 ...\n",
      "Training accuracy   = 0.975\n",
      "Validation Accuracy = 0.965\n",
      "\n",
      "EPOCH 34 ...\n",
      "Training accuracy   = 0.977\n",
      "Validation Accuracy = 0.967\n",
      "\n",
      "EPOCH 35 ...\n",
      "Training accuracy   = 0.970\n",
      "Validation Accuracy = 0.967\n",
      "\n",
      "EPOCH 36 ...\n",
      "Training accuracy   = 0.969\n",
      "Validation Accuracy = 0.964\n",
      "\n",
      "EPOCH 37 ...\n",
      "Training accuracy   = 0.977\n",
      "Validation Accuracy = 0.967\n",
      "\n",
      "EPOCH 38 ...\n",
      "Training accuracy   = 0.977\n",
      "Validation Accuracy = 0.968\n",
      "\n",
      "EPOCH 39 ...\n",
      "Training accuracy   = 0.977\n",
      "Validation Accuracy = 0.970\n",
      "\n",
      "EPOCH 40 ...\n",
      "Training accuracy   = 0.977\n",
      "Validation Accuracy = 0.966\n",
      "\n",
      "EPOCH 41 ...\n",
      "Training accuracy   = 0.972\n",
      "Validation Accuracy = 0.970\n",
      "\n",
      "EPOCH 42 ...\n",
      "Training accuracy   = 0.976\n",
      "Validation Accuracy = 0.969\n",
      "\n",
      "EPOCH 43 ...\n",
      "Training accuracy   = 0.978\n",
      "Validation Accuracy = 0.971\n",
      "Model saved with accuracy:0.9709750566893424\n",
      "\n",
      "EPOCH 44 ...\n",
      "Training accuracy   = 0.977\n",
      "Validation Accuracy = 0.967\n",
      "\n",
      "EPOCH 45 ...\n",
      "Training accuracy   = 0.973\n",
      "Validation Accuracy = 0.965\n",
      "\n",
      "EPOCH 46 ...\n",
      "Training accuracy   = 0.980\n",
      "Validation Accuracy = 0.971\n",
      "\n",
      "EPOCH 47 ...\n",
      "Training accuracy   = 0.979\n",
      "Validation Accuracy = 0.965\n",
      "\n",
      "EPOCH 48 ...\n",
      "Training accuracy   = 0.975\n",
      "Validation Accuracy = 0.963\n",
      "\n",
      "EPOCH 49 ...\n",
      "Training accuracy   = 0.980\n",
      "Validation Accuracy = 0.969\n",
      "\n",
      "EPOCH 50 ...\n",
      "Training accuracy   = 0.979\n",
      "Validation Accuracy = 0.972\n",
      "Model saved with accuracy:0.9718820861678005\n",
      "\n",
      "Current max accuracy:0.9718820861678005\n"
     ]
    }
   ],
   "source": [
    "correct_prediction = tf.equal(tf.argmax(logits, 1), tf.argmax(one_hot_y, 1))\n",
    "accuracy_operation = tf.reduce_mean(tf.cast(correct_prediction, tf.float32))\n",
    "saver = tf.train.Saver()\n",
    "def evaluate(X_data, y_data):\n",
    "    num_examples = len(X_data)\n",
    "    total_accuracy = 0\n",
    "    sess = tf.get_default_session()\n",
    "    for offset in range(0, num_examples, BATCH_SIZE):\n",
    "        batch_x, batch_y = X_data[offset:offset+BATCH_SIZE], y_data[offset:offset+BATCH_SIZE]\n",
    "        accuracy = sess.run(accuracy_operation, feed_dict={x: batch_x, y: batch_y,keep_prob:[1.0,1.0,1.0,1.0,1.0]})\n",
    "        total_accuracy += (accuracy * len(batch_x))\n",
    "    return total_accuracy / num_examples\n",
    "train_loss = []\n",
    "valid_loss = []\n",
    "\n",
    "with tf.Session() as sess:\n",
    "    saver.restore(sess, tf.train.latest_checkpoint('.'))\n",
    "    sess.run(tf.global_variables_initializer())\n",
    "    num_examples = len(x_train_pre)\n",
    "    num_original = len(X_train)\n",
    "    \n",
    "    print(\"Training...\")\n",
    "    print()\n",
    "    for i in range(EPOCHS):\n",
    "#         X_train, y_train = shuffle(X_train, y_train)\n",
    "#         print('Training examples number:{:>3}'.format(num_examples))\n",
    "        x_train_shuffled, y_train_shuffled = shuffle(x_train_pre, y_train_au,n_samples = num_examples)\n",
    "        for offset in range(0, num_examples, BATCH_SIZE):\n",
    "            end = offset + BATCH_SIZE\n",
    "            batch_x, batch_y = x_train_shuffled[offset:end], y_train_shuffled[offset:end]\n",
    "            sess.run(training_operation, feed_dict={x: batch_x, y: batch_y, keep_prob:[0.9,0.8,0.7,0.5,0.5]})\n",
    "        \n",
    "        print(\"EPOCH {} ...\".format(i+1))\n",
    "        \n",
    "        #calculate training accuracy\n",
    "        train_loss_local = evaluate(x_train_shuffled, y_train_shuffled)\n",
    "        print(\"Training accuracy   = {:.3f}\".format(train_loss_local))\n",
    "        train_loss.append(1-train_loss_local)\n",
    "        \n",
    "        #calculate validation accuracy\n",
    "        validation_accuracy = evaluate(x_valid_pre, y_valid)\n",
    "        valid_loss.append(1-validation_accuracy)\n",
    "        print(\"Validation Accuracy = {:.3f}\".format(validation_accuracy))\n",
    "        \n",
    "        #train on smaller data\n",
    "#         if i >10:\n",
    "#             if num_examples < num_original:\n",
    "#                 num_examples = int(num_examples*0.95)\n",
    "#             else:\n",
    "#                 # decrease training examples by factor of 0.9 for each epoch\n",
    "#                 num_examples = int(num_examples*0.9) \n",
    "        \n",
    "        if validation_accuracy > current_max_accuracy:\n",
    "            current_max_accuracy = validation_accuracy\n",
    "            saver.save(sess, './lenet')\n",
    "            print(\"Model saved with accuracy:{:>3}\".format(current_max_accuracy))\n",
    "        print()  \n",
    "    print('Current max accuracy:{}'.format(current_max_accuracy))\n",
    "\n",
    "with open(accuracy_file_dir,'w') as f:\n",
    "    f.write(str(current_max_accuracy))"
   ]
  },
  {
   "cell_type": "markdown",
   "metadata": {},
   "source": [
    "### Visualize loss of train (o) and validation"
   ]
  },
  {
   "cell_type": "markdown",
   "metadata": {},
   "source": [
    "#### 10x image augmentation, learning rate=0.001, keep_prob=0.9,0.8,0.7,0.5,0.5, Epoch=50 with three forward feeding layers"
   ]
  },
  {
   "cell_type": "code",
   "execution_count": 33,
   "metadata": {},
   "outputs": [
    {
     "data": {
      "image/png": "[encoded data removed]",
      "text/plain": [
       "<matplotlib.figure.Figure at 0x7f85ef22d080>"
      ]
     },
     "metadata": {},
     "output_type": "display_data"
    }
   ],
   "source": [
    "fig = plt.figure() \n",
    "plt.title('Loss Comparison')\n",
    "plt.xlabel('Epochs')\n",
    "plt.ylabel('Loss')\n",
    "plt.plot(np.arange(1,len(train_loss)+1),train_loss,'b',label ='train loss')\n",
    "plt.plot(np.arange(1,len(valid_loss)+1),valid_loss,'r',label = 'validation loss')\n",
    "plt.legend(bbox_to_anchor=(0.68,1),loc=2,borderaxespad=0.)\n",
    "plt.grid(True)"
   ]
  },
  {
   "cell_type": "markdown",
   "metadata": {},
   "source": [
    "#### 10x image augmentation, learning rate=0.001, keep_prob=0.8,0.8,0.8,0.5,0.5, Epoch=50 with three forward feeding layers"
   ]
  },
  {
   "cell_type": "code",
   "execution_count": 29,
   "metadata": {},
   "outputs": [
    {
     "data": {
      "image/png": "[encoded data removed]",
      "text/plain": [
       "<matplotlib.figure.Figure at 0x7f85eeb74a58>"
      ]
     },
     "metadata": {},
     "output_type": "display_data"
    }
   ],
   "source": [
    "# fig = plt.figure() \n",
    "# plt.title('Loss Comparison')\n",
    "# plt.xlabel('Epochs')\n",
    "# plt.ylabel('Loss')\n",
    "# plt.plot(np.arange(1,len(train_loss)+1),train_loss,'b',label ='train loss')\n",
    "# plt.plot(np.arange(1,len(valid_loss)+1),valid_loss,'r',label = 'validation loss')\n",
    "# plt.legend(bbox_to_anchor=(0.68,1),loc=2,borderaxespad=0.)\n",
    "# plt.grid(True)"
   ]
  },
  {
   "cell_type": "markdown",
   "metadata": {},
   "source": [
    "#### 4x image augmentation, learning rate=0.001, keep_prob=0.8,0.8,0.8,0.5,0.5, Epoch=50 with three forward feeding layers"
   ]
  },
  {
   "cell_type": "code",
   "execution_count": 57,
   "metadata": {},
   "outputs": [
    {
     "name": "stdout",
     "output_type": "stream",
     "text": [
      "Minimum train accuracy:0.9622782339093988\n",
      "Minimum validation accuracy:0.9591836734693877\n"
     ]
    },
    {
     "data": {
      "image/png": "[encoded data removed]",
      "text/plain": [
       "<matplotlib.figure.Figure at 0x4097a198>"
      ]
     },
     "metadata": {},
     "output_type": "display_data"
    }
   ],
   "source": [
    "# print('Minimum train accuracy:{:>3}'.format(1-min(train_loss)))\n",
    "# print('Minimum validation accuracy:{:>3}'.format(1-min(valid_loss)))\n",
    "\n",
    "# fig = plt.figure() \n",
    "# plt.title('Loss Comparison')\n",
    "# plt.xlabel('Epochs')\n",
    "# plt.ylabel('Loss')\n",
    "# plt.plot(np.arange(1,len(train_loss)+1),train_loss,'b',label ='train loss')\n",
    "# plt.plot(np.arange(1,len(valid_loss)+1),valid_loss,'r',label = 'validation loss')\n",
    "# plt.legend(bbox_to_anchor=(0.68,1),loc=2,borderaxespad=0.)\n",
    "# plt.grid(True)"
   ]
  },
  {
   "cell_type": "markdown",
   "metadata": {},
   "source": [
    "#### 4x image augmentation,learning rate = 0.0005 keep_prob = 0.5 for last two fc layers"
   ]
  },
  {
   "cell_type": "code",
   "execution_count": 47,
   "metadata": {},
   "outputs": [
    {
     "data": {
      "image/png": "[encoded data removed]",
      "text/plain": [
       "<matplotlib.figure.Figure at 0xaec46d8>"
      ]
     },
     "metadata": {},
     "output_type": "display_data"
    }
   ],
   "source": [
    "# fig = plt.figure() \n",
    "# plt.title('Loss Comparison')\n",
    "# plt.xlabel('Epochs')\n",
    "# plt.ylabel('Loss')\n",
    "# train_loss = np.array(train_loss)\n",
    "# plt.plot(np.arange(1,len(train_loss)+1),1-train_loss,'b',label ='train loss')\n",
    "# plt.plot(np.arange(1,len(valid_loss)+1),valid_loss,'r',label = 'validation loss')\n",
    "# plt.legend(bbox_to_anchor=(0.68,1),loc=2,borderaxespad=0.)\n",
    "# plt.grid(True)"
   ]
  },
  {
   "cell_type": "markdown",
   "metadata": {},
   "source": [
    "#### Train and validate the model####"
   ]
  },
  {
   "cell_type": "code",
   "execution_count": 72,
   "metadata": {},
   "outputs": [
    {
     "name": "stdout",
     "output_type": "stream",
     "text": [
      "34799\n",
      "34799\n",
      "(32, 32, 1)\n",
      "9\n"
     ]
    },
    {
     "data": {
      "image/png": "[encoded data removed]",
      "text/plain": [
       "<matplotlib.figure.Figure at 0x7ff84454ca90>"
      ]
     },
     "metadata": {},
     "output_type": "display_data"
    },
    {
     "name": "stdout",
     "output_type": "stream",
     "text": [
      "1\n"
     ]
    },
    {
     "data": {
      "image/png": "[encoded data removed]",
      "text/plain": [
       "<matplotlib.figure.Figure at 0x7ff8460a3dd8>"
      ]
     },
     "metadata": {},
     "output_type": "display_data"
    }
   ],
   "source": [
    "print(len(X_train))\n",
    "leng = len(X_train)\n",
    "print(leng)\n",
    "rd_index = rd.randint(0,leng)\n",
    "rd_im = np.array(x_train_pre[rd_index+leng])\n",
    "print(rd_im.shape)\n",
    "rd_im = rd_im.reshape((32,32))\n",
    "plt.imshow(x_train_pre[rd_index])\n",
    "print(y_train_au[rd_index])\n",
    "plt.show()\n",
    "plt.imshow(rd_im,cmap='gray')\n",
    "print(y_train_au[rd_index+leng])\n",
    "plt.show()"
   ]
  },
  {
   "cell_type": "markdown",
   "metadata": {},
   "source": [
    "---\n",
    "\n",
    "## Step 3: Test a Model on New Images\n",
    "\n",
    "To give yourself more insight into how your model is working, download at least five pictures of German traffic signs from the web and use your model to predict the traffic sign type.\n",
    "\n",
    "You may find `signnames.csv` useful as it contains mappings from the class id (integer) to the actual sign name."
   ]
  },
  {
   "cell_type": "markdown",
   "metadata": {},
   "source": [
    "### Load and Output the Images"
   ]
  },
  {
   "cell_type": "code",
   "execution_count": 75,
   "metadata": {},
   "outputs": [
    {
     "data": {
      "image/png": "[encoded data removed]",
      "text/plain": [
       "<matplotlib.figure.Figure at 0x7ff8460b8d68>"
      ]
     },
     "metadata": {},
     "output_type": "display_data"
    }
   ],
   "source": [
    "### Load the images and plot them here.\n",
    "### Feel free to use as many code cells as needed.\n",
    "testshow = X_test[235]\n",
    "# testshow = grayscale(testshow)\n",
    "# plt.imshow(testshow)\n",
    "# plt.show()\n",
    "testshow = pre_process(testshow)\n",
    "plt.imshow(testshow,cmap='gray')\n",
    "plt.show()"
   ]
  },
  {
   "cell_type": "markdown",
   "metadata": {},
   "source": [
    "### Predict the Sign Type for Each Image"
   ]
  },
  {
   "cell_type": "code",
   "execution_count": 34,
   "metadata": {
    "collapsed": true
   },
   "outputs": [],
   "source": [
    "### Run the predictions here and use the model to output the prediction for each image.\n",
    "### Make sure to pre-process the images with the same pre-processing pipeline used earlier.\n",
    "### Feel free to use as many code cells as needed.\n",
    "import csv\n",
    "#sign labels\n",
    "labels =[]\n",
    "#read into sign file and write into the container\n",
    "with open('signnames.csv',newline = '') as csvfile:\n",
    "    spamreader = csv.reader(csvfile, delimiter=',', quotechar='|')\n",
    "    for row in spamreader:\n",
    "        labels.append(row[1])"
   ]
  },
  {
   "cell_type": "code",
   "execution_count": 35,
   "metadata": {
    "collapsed": true
   },
   "outputs": [],
   "source": [
    "def get_label(x_index):\n",
    "    \"\"\"get corresponding label name from given index\"\"\"\n",
    "    if type(x_index) is np.ndarray and len(x_index)>1:\n",
    "        labs = []    saver.restore(sess, tf.train.latest_checkpoint('.'))\n",
    "\n",
    "        for i in x_index:\n",
    "            labs.append(labels[i])\n",
    "        return labs\n",
    "    else: \n",
    "        return labels[x_index]"
   ]
  },
  {
   "cell_type": "code",
   "execution_count": 36,
   "metadata": {},
   "outputs": [
    {
     "name": "stdout",
     "output_type": "stream",
     "text": [
      "INFO:tensorflow:Restoring parameters from ./lenet\n"
     ]
    }
   ],
   "source": [
    "# correct_prediction = tf.equal(tf.argmax(logits, 1), tf.argmax(one_hot_y, 1))\n",
    "# accuracy_operation = tf.reduce_mean(tf.cast(correct_prediction, tf.float32))\n",
    "num_examples = len(X_test)\n",
    "X_labels = []\n",
    "p_index = []\n",
    "predict_lable = tf.argmax(logits, 1)\n",
    "\n",
    "#preprocess test data\n",
    "x_test_pre = image_preProcess(X_test)\n",
    "\n",
    "with tf.Session() as sess:\n",
    "    saver.restore(sess, tf.train.latest_checkpoint('.'))\n",
    "    \n",
    "#     for offset in range(0, num_examples):\n",
    "#         batch_x, batch_y = X_test[offset:offset+BATCH_SIZE], y_test[offset:offset+BATCH_SIZE]\n",
    "    p_index = sess.run(predict_lable, feed_dict={x: x_test_pre, keep_prob:[1.0,1.0,1.0,1.0,1.0]})"
   ]
  },
  {
   "cell_type": "code",
   "execution_count": 37,
   "metadata": {},
   "outputs": [
    {
     "name": "stdout",
     "output_type": "stream",
     "text": [
      "length is 12630\n",
      "42\n",
      "0\n",
      "12630\n"
     ]
    }
   ],
   "source": [
    "print('length is {}'.format(len(p_index)))\n",
    "print(max(p_index))\n",
    "print(min(p_index))\n",
    "print(num_examples)\n",
    "for index in range(num_examples):\n",
    "    X_labels.append(get_label(p_index[index]))"
   ]
  },
  {
   "cell_type": "code",
   "execution_count": 38,
   "metadata": {},
   "outputs": [
    {
     "name": "stdout",
     "output_type": "stream",
     "text": [
      "Speed limit (20km/h)\n"
     ]
    },
    {
     "data": {
      "text/plain": [
       "<matplotlib.text.Text at 0x7f856cd72160>"
      ]
     },
     "execution_count": 38,
     "metadata": {},
     "output_type": "execute_result"
    },
    {
     "data": {
      "image/png": "[encoded data removed]",
      "text/plain": [
       "<matplotlib.figure.Figure at 0x7f85adbe4d68>"
      ]
     },
     "metadata": {},
     "output_type": "display_data"
    }
   ],
   "source": [
    "ii=100\n",
    "print(labels[y_test[ii]])\n",
    "plt.imshow(X_test[ii])\n",
    "plt.title(X_labels[ii])"
   ]
  },
  {
   "cell_type": "markdown",
   "metadata": {},
   "source": [
    "### Test"
   ]
  },
  {
   "cell_type": "code",
   "execution_count": 39,
   "metadata": {},
   "outputs": [
    {
     "name": "stdout",
     "output_type": "stream",
     "text": [
      "INFO:tensorflow:Restoring parameters from ./lenet\n",
      "Test Accuracy = 0.959\n"
     ]
    }
   ],
   "source": [
    "with tf.Session() as sess:\n",
    "    saver.restore(sess, tf.train.latest_checkpoint('.'))\n",
    "\n",
    "    test_accuracy = evaluate(x_test_pre, y_test)\n",
    "    print(\"Test Accuracy = {:.3f}\".format(test_accuracy))"
   ]
  },
  {
   "cell_type": "markdown",
   "metadata": {},
   "source": [
    "### Analyze Performance"
   ]
  },
  {
   "cell_type": "code",
   "execution_count": null,
   "metadata": {
    "collapsed": true
   },
   "outputs": [],
   "source": [
    "### Calculate the accuracy for these 5 new images. \n",
    "### For example, if the model predicted 1 out of 5 signs correctly, it's 20% accurate on these new images."
   ]
  },
  {
   "cell_type": "markdown",
   "metadata": {},
   "source": [
    "### Output Top 5 Softmax Probabilities For Each Image Found on the Web"
   ]
  },
  {
   "cell_type": "markdown",
   "metadata": {},
   "source": [
    "For each of the new images, print out the model's softmax probabilities to show the **certainty** of the model's predictions (limit the output to the top 5 probabilities for each image). [`tf.nn.top_k`](https://www.tensorflow.org/versions/r0.12/api_docs/python/nn.html#top_k) could prove helpful here. \n",
    "\n",
    "The example below demonstrates how tf.nn.top_k can be used to find the top k predictions for each image.\n",
    "\n",
    "`tf.nn.top_k` will return the values and indices (class ids) of the top k predictions. So if k=3, for each sign, it'll return the 3 largest probabilities (out of a possible 43) and the correspoding class ids.\n",
    "\n",
    "Take this numpy array as an example. The values in the array represent predictions. The array contains softmax probabilities for five candidate images with six possible classes. `tf.nn.top_k` is used to choose the three classes with the highest probability:\n",
    "\n",
    "```\n",
    "# (5, 6) array\n",
    "a = np.array([[ 0.24879643,  0.07032244,  0.12641572,  0.34763842,  0.07893497,\n",
    "         0.12789202],\n",
    "       [ 0.28086119,  0.27569815,  0.08594638,  0.0178669 ,  0.18063401,\n",
    "         0.15899337],\n",
    "       [ 0.26076848,  0.23664738,  0.08020603,  0.07001922,  0.1134371 ,\n",
    "         0.23892179],\n",
    "       [ 0.11943333,  0.29198961,  0.02605103,  0.26234032,  0.1351348 ,\n",
    "         0.16505091],\n",
    "       [ 0.09561176,  0.34396535,  0.0643941 ,  0.16240774,  0.24206137,\n",
    "         0.09155967]])\n",
    "```\n",
    "\n",
    "Running it through `sess.run(tf.nn.top_k(tf.constant(a), k=3))` produces:\n",
    "\n",
    "```\n",
    "TopKV2(values=array([[ 0.34763842,  0.24879643,  0.12789202],\n",
    "       [ 0.28086119,  0.27569815,  0.18063401],\n",
    "       [ 0.26076848,  0.23892179,  0.23664738],\n",
    "       [ 0.29198961,  0.26234032,  0.16505091],\n",
    "       [ 0.34396535,  0.24206137,  0.16240774]]), indices=array([[3, 0, 5],\n",
    "       [0, 1, 4],\n",
    "       [0, 5, 1],\n",
    "       [1, 3, 5],\n",
    "       [1, 4, 3]], dtype=int32))\n",
    "```\n",
    "\n",
    "Looking just at the first row we get `[ 0.34763842,  0.24879643,  0.12789202]`, you can confirm these are the 3 largest probabilities in `a`. You'll also notice `[3, 0, 5]` are the corresponding indices."
   ]
  },
  {
   "cell_type": "code",
   "execution_count": 40,
   "metadata": {
    "collapsed": true
   },
   "outputs": [],
   "source": [
    "### Print out the top five softmax probabilities for the predictions on the German traffic sign images found on the web. \n",
    "### Feel free to use as many code cells as needed\n",
    "\n",
    "def top_5(logits):\n",
    "    \"\"\"Rturn top five possibilities and indices\n",
    "    #input: array\n",
    "    #output: \n",
    "             1.top five possibiities sorted from high to low \n",
    "             2. corresponding indices\n",
    "             \"\"\"\n",
    "    return tf.nn.top_k(logits, k = 5)"
   ]
  },
  {
   "cell_type": "markdown",
   "metadata": {},
   "source": [
    "### output sample"
   ]
  },
  {
   "cell_type": "code",
   "execution_count": 42,
   "metadata": {},
   "outputs": [
    {
     "name": "stdout",
     "output_type": "stream",
     "text": [
      "[720, 8879, 9439, 1455, 11833]\n",
      "INFO:tensorflow:Restoring parameters from ./lenet\n"
     ]
    }
   ],
   "source": [
    "pre_possibilities ,pre_indices = 0,0\n",
    "#samples \n",
    "from random import sample\n",
    "rand_indice = sample(range(0,len(x_test_pre)),5)\n",
    "print(rand_indice)\n",
    "x_samples = [x_test_pre[i] for i in rand_indice]\n",
    "\n",
    "with tf.Session() as sess:\n",
    "    saver.restore(sess, tf.train.latest_checkpoint('.'))\n",
    "    \n",
    "    top_out = sess.run(tf.nn.top_k(logits, k=5), feed_dict={x:x_samples,keep_prob:[1.0,1.0,1.0,1.0,1.0]})"
   ]
  },
  {
   "cell_type": "code",
   "execution_count": 43,
   "metadata": {
    "collapsed": true
   },
   "outputs": [],
   "source": [
    "#coloe and fond format\n",
    "class color:\n",
    "    \"\"\"Reference from \n",
    "    https://stackoverflow.com/questions/8924173/how-do-i-print-bold-text-in-python\"\"\"\n",
    "    PURPLE = '\\033[95m'\n",
    "    CYAN = '\\033[96m'\n",
    "    DARKCYAN = '\\033[36m'\n",
    "    BLUE = '\\033[94m'\n",
    "    GREEN = '\\033[92m'\n",
    "    YELLOW = '\\033[93m'\n",
    "    RED = '\\033[91m'\n",
    "    BOLD = '\\033[1m'\n",
    "    UNDERLINE = '\\033[4m'\n",
    "    END = '\\033[0m'"
   ]
  },
  {
   "cell_type": "code",
   "execution_count": 44,
   "metadata": {},
   "outputs": [
    {
     "name": "stdout",
     "output_type": "stream",
     "text": [
      "top five for 720th image:\n"
     ]
    },
    {
     "data": {
      "image/png": "[encoded data removed]",
      "text/plain": [
       "<matplotlib.figure.Figure at 0x7f85ac76ef60>"
      ]
     },
     "metadata": {},
     "output_type": "display_data"
    },
    {
     "name": "stdout",
     "output_type": "stream",
     "text": [
      "Correct   lable: \u001b[1mNo passing\u001b[0m\n",
      "Predicted label: \u001b[1mNo passing\u001b[0m      No vehicles      Speed limit (120km/h)      Speed limit (70km/h)      End of speed limit (80km/h)\n",
      "\n",
      "top five for 8879th image:\n"
     ]
    },
    {
     "data": {
      "image/png": "[encoded data removed]",
      "text/plain": [
       "<matplotlib.figure.Figure at 0x7f8724a59208>"
      ]
     },
     "metadata": {},
     "output_type": "display_data"
    },
    {
     "name": "stdout",
     "output_type": "stream",
     "text": [
      "Correct   lable: \u001b[1mBumpy road\u001b[0m\n",
      "Predicted label: \u001b[1mBumpy road\u001b[0m      General caution      Dangerous curve to the left      Children crossing      Beware of ice/snow\n",
      "\n",
      "top five for 9439th image:\n"
     ]
    },
    {
     "data": {
      "image/png": "[encoded data removed]",
      "text/plain": [
       "<matplotlib.figure.Figure at 0x7f85d87a4b00>"
      ]
     },
     "metadata": {},
     "output_type": "display_data"
    },
    {
     "name": "stdout",
     "output_type": "stream",
     "text": [
      "Correct   lable: \u001b[1mSpeed limit (60km/h)\u001b[0m\n",
      "Predicted label: \u001b[1mSpeed limit (60km/h)\u001b[0m      SignName      Speed limit (20km/h)      Speed limit (30km/h)      Speed limit (100km/h)\n",
      "\n",
      "top five for 1455th image:\n"
     ]
    },
    {
     "data": {
      "image/png": "[encoded data removed]",
      "text/plain": [
       "<matplotlib.figure.Figure at 0x7f872029d390>"
      ]
     },
     "metadata": {},
     "output_type": "display_data"
    },
    {
     "name": "stdout",
     "output_type": "stream",
     "text": [
      "Correct   lable: \u001b[1mNo entry\u001b[0m\n",
      "Predicted label: \u001b[1mNo entry\u001b[0m      Road work      Slippery road      Traffic signals      Road narrows on the right\n",
      "\n",
      "top five for 11833th image:\n"
     ]
    },
    {
     "data": {
      "image/png": "[encoded data removed]",
      "text/plain": [
       "<matplotlib.figure.Figure at 0x7f856c2e5470>"
      ]
     },
     "metadata": {},
     "output_type": "display_data"
    },
    {
     "name": "stdout",
     "output_type": "stream",
     "text": [
      "Correct   lable: \u001b[1mKeep left\u001b[0m\n",
      "Predicted label: \u001b[1mKeep left\u001b[0m      Speed limit (30km/h)      Right-of-way at the next intersection      Go straight or right      Go straight or left\n",
      "\n"
     ]
    }
   ],
   "source": [
    "i = 0\n",
    "# print(x_test_pre[rand_indice[]])\n",
    "# tt = np.array(top_out)\n",
    "# print(tt.shape)\n",
    "for pre_pro,pre_i in zip(top_out.values,top_out.indices):\n",
    "    image_in = rand_indice[i]\n",
    "    print('top five for {}th image:'.format(image_in))\n",
    "    plt.imshow(X_test[image_in])\n",
    "    plt.show()\n",
    "#     print(pre_pro)\n",
    "    sam_la = get_label(pre_i)\n",
    "    print('Correct   lable: '+color.BOLD+get_label(y_test[image_in])+color.END)\n",
    "    print('Predicted label: '+color.BOLD+sam_la[0]+ color.END+'      '+'      '.join(sam_la[1:]))\n",
    "#     print()\n",
    "    i+=1\n",
    "    print()"
   ]
  },
  {
   "cell_type": "markdown",
   "metadata": {},
   "source": [
    "### Project Writeup\n",
    "\n",
    "Once you have completed the code implementation, document your results in a project writeup using this [template](https://github.com/udacity/CarND-Traffic-Sign-Classifier-Project/blob/master/writeup_template.md) as a guide. The writeup can be in a markdown or pdf file. "
   ]
  },
  {
   "cell_type": "markdown",
   "metadata": {},
   "source": [
    "> **Note**: Once you have completed all of the code implementations and successfully answered each question above, you may finalize your work by exporting the iPython Notebook as an HTML document. You can do this by using the menu above and navigating to  \\n\",\n",
    "    \"**File -> Download as -> HTML (.html)**. Include the finished document along with this notebook as your submission."
   ]
  },
  {
   "cell_type": "markdown",
   "metadata": {},
   "source": [
    "---\n",
    "\n",
    "## Step 4 (Optional): Visualize the Neural Network's State with Test Images\n",
    "\n",
    " This Section is not required to complete but acts as an additional excersise for understaning the output of a neural network's weights. While neural networks can be a great learning device they are often referred to as a black box. We can understand what the weights of a neural network look like better by plotting their feature maps. After successfully training your neural network you can see what it's feature maps look like by plotting the output of the network's weight layers in response to a test stimuli image. From these plotted feature maps, it's possible to see what characteristics of an image the network finds interesting. For a sign, maybe the inner network feature maps react with high activation to the sign's boundary outline or to the contrast in the sign's painted symbol.\n",
    "\n",
    " Provided for you below is the function code that allows you to get the visualization output of any tensorflow weight layer you want. The inputs to the function should be a stimuli image, one used during training or a new one you provided, and then the tensorflow variable name that represents the layer's state during the training process, for instance if you wanted to see what the [LeNet lab's](https://classroom.udacity.com/nanodegrees/nd013/parts/fbf77062-5703-404e-b60c-95b78b2f3f9e/modules/6df7ae49-c61c-4bb2-a23e-6527e69209ec/lessons/601ae704-1035-4287-8b11-e2c2716217ad/concepts/d4aca031-508f-4e0b-b493-e7b706120f81) feature maps looked like for it's second convolutional layer you could enter conv2 as the tf_activation variable.\n",
    "\n",
    "For an example of what feature map outputs look like, check out NVIDIA's results in their paper [End-to-End Deep Learning for Self-Driving Cars](https://devblogs.nvidia.com/parallelforall/deep-learning-self-driving-cars/) in the section Visualization of internal CNN State. NVIDIA was able to show that their network's inner weights had high activations to road boundary lines by comparing feature maps from an image with a clear path to one without. Try experimenting with a similar test to show that your trained network's weights are looking for interesting features, whether it's looking at differences in feature maps from images with or without a sign, or even what feature maps look like in a trained network vs a completely untrained one on the same sign image.\n",
    "\n",
    "<figure>\n",
    " <img src=\"visualize_cnn.png\" width=\"380\" alt=\"Combined Image\" />\n",
    " <figcaption>\n",
    " <p></p> \n",
    " <p style=\"text-align: center;\"> Your output should look something like this (above)</p> \n",
    " </figcaption>\n",
    "</figure>\n",
    " <p></p> \n"
   ]
  },
  {
   "cell_type": "code",
   "execution_count": 48,
   "metadata": {},
   "outputs": [],
   "source": [
    "# Arguments used for tf.truncated_normal, randomly defines variables for the weights and biases for each layer\n",
    "mu = 0\n",
    "sigma = 0.1\n",
    "weights = {\n",
    "    'wc1': tf.Variable(tf.truncated_normal([5,5,1,8], mu, sigma)), #for rgb image, the 3-dim of input is 3 \n",
    "    'wc2': tf.Variable(tf.truncated_normal([5,5,8,16], mu, sigma)),\n",
    "    'wc3': tf.Variable(tf.truncated_normal([5,5,16,64], mu, sigma)),\n",
    "    'wf3': tf.Variable(tf.truncated_normal([1408,172], mu, sigma)),\n",
    "    'wf4': tf.Variable(tf.truncated_normal([172,86], mu, sigma)),\n",
    "    'wf5': tf.Variable(tf.truncated_normal([86,n_classes], mu, sigma))\n",
    "}\n",
    "biases = {\n",
    "    'b1' : tf.Variable(tf.zeros([8])),\n",
    "    'b2' : tf.Variable(tf.zeros([16])),\n",
    "    'b3' : tf.Variable(tf.zeros([64])),\n",
    "    'bf3' : tf.Variable(tf.zeros([172])),\n",
    "    'bf4' : tf.Variable(tf.zeros([86])),\n",
    "    'bf5' : tf.Variable(tf.zeros([n_classes]))\n",
    "}\n",
    "strides = [1,1,1,1]\n",
    "cv_padding = 'SAME'\n",
    "mp_padding = 'VALID'\n",
    "keep_prob = tf.placeholder(tf.float32,(5))\n",
    "\n",
    "\n",
    "# Layer 1: Convolutional. Input = 32x32x1. Output = 8@32x32\n",
    "cv_1 = tf.nn.conv2d(x,weights['wc1'],strides,cv_padding)\n",
    "cv_1 = tf.nn.bias_add(cv_1,biases['b1'])\n",
    "cv_1 = tf.nn.relu(cv_1)\n",
    "\n",
    "# Pooling. Input = 8@32x32. Output = 8@16x16.\n",
    "k_pool = [1,2,2,1]\n",
    "s_pool = [1,2,2,1]\n",
    "cv_1 = tf.nn.max_pool(cv_1,k_pool,s_pool, mp_padding)\n",
    "cv_1 = tf.nn.dropout(cv_1,keep_prob[0])\n",
    "\n",
    "# Layer 2: Convolutional. Input = 8@16x16, Output = 16@16x16\n",
    "cv_2 = tf.nn.conv2d(cv_1,weights['wc2'],strides,cv_padding)\n",
    "cv_2 = tf.nn.bias_add(cv_2, biases['b2'])\n",
    "cv_2 = tf.nn.relu(cv_2)\n",
    "\n",
    "# Pooling. Input = 16@16x16. Output = 16@8x8.\n",
    "cv_2 = tf.nn.max_pool(cv_2, k_pool,s_pool,mp_padding)\n",
    "cv_2 = tf.nn.dropout(cv_2,keep_prob[1])\n",
    "\n",
    "# Layer 3: Convolutional. Input = 16@8X8, Output = 64@8x8\n",
    "cv_3 = tf.nn.conv2d(cv_2,weights['wc3'],strides,cv_padding)\n",
    "cv_3 = tf.nn.bias_add(cv_3, biases['b3'])\n",
    "cv_3 = tf.nn.relu(cv_3)\n",
    "\n",
    "# Pooling. Input = 64@8X8. Output = 64@4X4.\n",
    "cv_3 = tf.nn.max_pool(cv_3, k_pool,s_pool,mp_padding)\n",
    "cv_3 = tf.nn.dropout(cv_3,keep_prob[2])\n",
    "\n",
    "\n",
    "# Layer 1 Feedforward mp with 4 times downsampling: Input = 8@16x16, Output = 8@4x4\n",
    "cv_1_mp = tf.nn.max_pool(cv_1,[1,4,4,1],[1,4,4,1], mp_padding)\n",
    "# Flatten. Input = 8@4x4. Output = 128.    \n",
    "fl1 = flatten(cv_1_mp)\n",
    "\n",
    "# Layer 2 Feedforward mp with 2 times downsampling: Input = 16@8x8, Output = 16@4x4\n",
    "cv_2_mp = tf.nn.max_pool(cv_2,[1,2,2,1],[1,2,2,1], mp_padding)\n",
    "# Flatten. Input = 16@4x4. Output = 256.    \n",
    "fl2 = flatten(cv_2_mp)\n",
    "\n",
    "# Layer 3 flatten: Input = 64@4X4, Output = 1024\n",
    "fl3 = flatten(cv_3)\n",
    "\n",
    "# Concatenate layer 1, layer 2 and layer 3. Input 1: 128, Input 2: 256,Input 3: 1024, Output = 1408\n",
    "fl = tf.concat([fl1,fl2,fl3],1)\n",
    "#     fl = fl3\n",
    "\n",
    "# Layer 3: Fully Connected. Input = 1408. Output = 172.\n",
    "fc_1 = tf.add(tf.matmul(fl,weights['wf3']), biases['bf3'])\n",
    "# Activation.\n",
    "fc_1 = tf.nn.relu(fc_1)\n",
    "#add dropout layer to control the complexity of the model , prevents co-adaptation of\n",
    "# features.\n",
    "fc_1 = tf.nn.dropout(fc_1,keep_prob[3])\n",
    "# TODO: Layer 4: Fully Connected. Input = 172. Output = 86.\n",
    "fc_2 = tf.add(tf.matmul(fc_1, weights['wf4']), biases['bf4'])\n",
    "#     # TODO: Activation.\n",
    "fc_2 = tf.nn.relu(fc_2)\n",
    "#     #second dropout layer to control the complexity of the model , prevents co-adaptation of\n",
    "#     # features.\n",
    "fc_2 = tf.nn.dropout(fc_2,keep_prob[4])\n",
    "# TODO: Layer 5: Fully Connected. Input = 86. Output = 43.\n",
    "logits = tf.add(tf.matmul(fc_2, weights['wf5']), biases['bf5'])"
   ]
  },
  {
   "cell_type": "code",
   "execution_count": 68,
   "metadata": {
    "collapsed": true
   },
   "outputs": [],
   "source": [
    "### Visualize your network's feature maps here.\n",
    "### Feel free to use as many code cells as needed.\n",
    "\n",
    "# image_input: the test image being fed into the network to produce the feature maps\n",
    "# tf_activation: should be a tf variable name used during your training procedure that represents the calculated state of a specific weight layer\n",
    "# activation_min/max: can be used to view the activation contrast in more detail, by default matplot sets min and max to the actual min and max values of the output\n",
    "# plt_num: used to plot out multiple different weight feature map sets on the same block, just extend the plt number for each new feature map entry\n",
    "\n",
    "def outputFeatureMap(image_input, tf_activation, activation_min=-1, activation_max=-1 ,plt_num=1):\n",
    "    # Here make sure to preprocess your image_input in a way your network expects\n",
    "    # with size, normalization, ect if needed\n",
    "    # image_input =\n",
    "    # Note: x should be the same name as your network's tensorflow data placeholder variable\n",
    "    # If you get an error tf_activation is not defined it may be having trouble accessing the variable from inside a function\n",
    "    activation = tf_activation.eval(session=sess,feed_dict={x : image_input, keep_prob:[1.0,1.0,1.0,1.0,1.0]})\n",
    "    featuremaps = activation.shape[3]\n",
    "    print(featuremaps)\n",
    "    plt.figure(plt_num, figsize=(15,15))\n",
    "    for featuremap in range(featuremaps):\n",
    "        plt.subplot(11,8, featuremap+1) # sets the number of feature maps to show on each row and column\n",
    "        plt.title('FeatureMap ' + str(featuremap)) # displays the feature map number\n",
    "        if activation_min != -1 & activation_max != -1:\n",
    "            plt.imshow(activation[0,:,:, featuremap], interpolation=\"nearest\", vmin =activation_min, vmax=activation_max, cmap=\"gray\")\n",
    "        elif activation_max != -1:\n",
    "            plt.imshow(activation[0,:,:, featuremap], interpolation=\"nearest\", vmax=activation_max, cmap=\"gray\")\n",
    "        elif activation_min !=-1:\n",
    "            plt.imshow(activation[0,:,:, featuremap], interpolation=\"nearest\", vmin=activation_min, cmap=\"gray\")\n",
    "        else:\n",
    "            plt.imshow(activation[0,:,:, featuremap], interpolation=\"nearest\", cmap=\"gray\")"
   ]
  },
  {
   "cell_type": "code",
   "execution_count": 69,
   "metadata": {},
   "outputs": [
    {
     "name": "stdout",
     "output_type": "stream",
     "text": [
      "\u001b[1mOriginal image\n"
     ]
    },
    {
     "data": {
      "image/png": "[encoded data removed]",
      "text/plain": [
       "<matplotlib.figure.Figure at 0x7f8537fcf780>"
      ]
     },
     "metadata": {},
     "output_type": "display_data"
    },
    {
     "name": "stdout",
     "output_type": "stream",
     "text": [
      "INFO:tensorflow:Restoring parameters from ./lenet\n",
      "8\n",
      "\u001b[1mFirst convolution layer\n"
     ]
    },
    {
     "data": {
      "image/png": "[encoded data removed]",
      "text/plain": [
       "<matplotlib.figure.Figure at 0x7f8524786cf8>"
      ]
     },
     "metadata": {},
     "output_type": "display_data"
    },
    {
     "name": "stdout",
     "output_type": "stream",
     "text": [
      "16\n",
      "\u001b[1mSecond convolution layer\n"
     ]
    },
    {
     "data": {
      "image/png": "[encoded data removed]",
      "text/plain": [
       "<matplotlib.figure.Figure at 0x7f85242b5470>"
      ]
     },
     "metadata": {},
     "output_type": "display_data"
    },
    {
     "name": "stdout",
     "output_type": "stream",
     "text": [
      "64\n",
      "\u001b[1mSecond convolution layer\n"
     ]
    },
    {
     "data": {
      "image/png": "[encoded data removed]",
      "text/plain": [
       "<matplotlib.figure.Figure at 0x7f85241c7320>"
      ]
     },
     "metadata": {},
     "output_type": "display_data"
    }
   ],
   "source": [
    "from random import randint\n",
    "vis_ind = randint(0,len(x_test_pre))\n",
    "image_in = np.copy(x_test_pre[vis_ind])\n",
    "plt.imshow(image_in.reshape((32,32)), cmap='gray')\n",
    "print(color.BOLD+'Original image')\n",
    "plt.show()\n",
    "image_input = [image_in]\n",
    "with tf.Session() as sess:\n",
    "    saver.restore(sess, tf.train.latest_checkpoint('.'))\n",
    "    sess.run(tf.global_variables_initializer())\n",
    "    outputFeatureMap(image_input,cv_1)\n",
    "    print(color.BOLD+'First convolution layer')\n",
    "    plt.show()\n",
    "#     outputFeatureMap(image_input,max_pool_1)\n",
    "#     print(color.BOLD+'First maxpooling layer')\n",
    "#     plt.show()\n",
    "    outputFeatureMap(image_input,cv_2)\n",
    "    print(color.BOLD+'Second convolution layer')\n",
    "    plt.show()\n",
    "    outputFeatureMap(image_input,cv_3)\n",
    "    print(color.BOLD+'Second convolution layer')\n",
    "    plt.show()\n",
    "#     outputFeatureMap(image_input,max_pool_2)\n",
    "#     print(color.BOLD+'Second maxpooling layer')\n",
    "#     plt.show()"
   ]
  }
 ],
 "metadata": {
  "anaconda-cloud": {},
  "kernelspec": {
   "display_name": "Python 3",
   "language": "python",
   "name": "python3"
  },
  "language_info": {
   "codemirror_mode": {
    "name": "ipython",
    "version": 3
   },
   "file_extension": ".py",
   "mimetype": "text/x-python",
   "name": "python",
   "nbconvert_exporter": "python",
   "pygments_lexer": "ipython3",
   "version": "3.6.2"
  },
  "widgets": {
   "state": {},
   "version": "1.1.2"
  }
 },
 "nbformat": 4,
 "nbformat_minor": 1
}
